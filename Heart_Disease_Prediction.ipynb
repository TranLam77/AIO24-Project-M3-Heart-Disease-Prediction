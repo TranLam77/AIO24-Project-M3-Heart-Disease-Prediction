{
  "nbformat": 4,
  "nbformat_minor": 0,
  "metadata": {
    "colab": {
      "provenance": []
    },
    "kernelspec": {
      "name": "python3",
      "display_name": "Python 3"
    },
    "language_info": {
      "name": "python"
    }
  },
  "cells": [
    {
      "cell_type": "markdown",
      "source": [
        "# 1.Load dataset"
      ],
      "metadata": {
        "id": "5EgosTrz1RvG"
      }
    },
    {
      "cell_type": "code",
      "execution_count": 2,
      "metadata": {
        "colab": {
          "base_uri": "https://localhost:8080/"
        },
        "id": "38m9QC291Fmg",
        "outputId": "14514e4f-55c8-460d-b107-09607f0cb071"
      },
      "outputs": [
        {
          "output_type": "stream",
          "name": "stdout",
          "text": [
            "Downloading...\n",
            "From: https://drive.google.com/uc?id=1oGsM9EAFWiE28jDXT1IKhWwsqzIOcXcN\n",
            "To: /content/cleveland.csv\n",
            "\r  0% 0.00/10.9k [00:00<?, ?B/s]\r100% 10.9k/10.9k [00:00<00:00, 19.9MB/s]\n"
          ]
        }
      ],
      "source": [
        "! gdown https://drive.google.com/uc?id=1oGsM9EAFWiE28jDXT1IKhWwsqzIOcXcN"
      ]
    },
    {
      "cell_type": "markdown",
      "source": [
        "# 2.Dataset representation"
      ],
      "metadata": {
        "id": "9QWmT7AR1l3k"
      }
    },
    {
      "cell_type": "code",
      "source": [
        "import pandas as pd\n",
        "import numpy as np\n",
        "import matplotlib.pyplot as plt\n",
        "import seaborn as sns\n",
        "\n",
        "df = pd.read_csv('cleveland.csv')\n",
        "df.columns = ['age','sex','cp','trestbps','chol','fbs','restecg','thalach','exang',\n",
        "                'oldpeak','slope','ca','thal','target']\n",
        "df.head(10)"
      ],
      "metadata": {
        "colab": {
          "base_uri": "https://localhost:8080/",
          "height": 362
        },
        "id": "qQh9H1jX1yAe",
        "outputId": "e5ed1a41-1534-449f-b657-83608a020af3"
      },
      "execution_count": 12,
      "outputs": [
        {
          "output_type": "execute_result",
          "data": {
            "text/plain": [
              "   age  sex  cp  trestbps  chol  fbs  restecg  thalach  exang  oldpeak  slope   ca  thal  target\n",
              "0   67    1   4       160   286    0        2      108      1      1.5      2  3.0   3.0       2\n",
              "1   67    1   4       120   229    0        2      129      1      2.6      2  2.0   7.0       1\n",
              "2   37    1   3       130   250    0        0      187      0      3.5      3  0.0   3.0       0\n",
              "3   41    0   2       130   204    0        2      172      0      1.4      1  0.0   3.0       0\n",
              "4   56    1   2       120   236    0        0      178      0      0.8      1  0.0   3.0       0\n",
              "5   62    0   4       140   268    0        2      160      0      3.6      3  2.0   3.0       3\n",
              "6   57    0   4       120   354    0        0      163      1      0.6      1  0.0   3.0       0\n",
              "7   63    1   4       130   254    0        2      147      0      1.4      2  1.0   7.0       2\n",
              "8   53    1   4       140   203    1        2      155      1      3.1      3  0.0   7.0       1\n",
              "9   57    1   4       140   192    0        0      148      0      0.4      2  0.0   6.0       0"
            ],
            "text/html": [
              "\n",
              "  <div id=\"df-2264b492-0591-49f6-9603-72e91b3a14a2\" class=\"colab-df-container\">\n",
              "    <div>\n",
              "<style scoped>\n",
              "    .dataframe tbody tr th:only-of-type {\n",
              "        vertical-align: middle;\n",
              "    }\n",
              "\n",
              "    .dataframe tbody tr th {\n",
              "        vertical-align: top;\n",
              "    }\n",
              "\n",
              "    .dataframe thead th {\n",
              "        text-align: right;\n",
              "    }\n",
              "</style>\n",
              "<table border=\"1\" class=\"dataframe\">\n",
              "  <thead>\n",
              "    <tr style=\"text-align: right;\">\n",
              "      <th></th>\n",
              "      <th>age</th>\n",
              "      <th>sex</th>\n",
              "      <th>cp</th>\n",
              "      <th>trestbps</th>\n",
              "      <th>chol</th>\n",
              "      <th>fbs</th>\n",
              "      <th>restecg</th>\n",
              "      <th>thalach</th>\n",
              "      <th>exang</th>\n",
              "      <th>oldpeak</th>\n",
              "      <th>slope</th>\n",
              "      <th>ca</th>\n",
              "      <th>thal</th>\n",
              "      <th>target</th>\n",
              "    </tr>\n",
              "  </thead>\n",
              "  <tbody>\n",
              "    <tr>\n",
              "      <th>0</th>\n",
              "      <td>67</td>\n",
              "      <td>1</td>\n",
              "      <td>4</td>\n",
              "      <td>160</td>\n",
              "      <td>286</td>\n",
              "      <td>0</td>\n",
              "      <td>2</td>\n",
              "      <td>108</td>\n",
              "      <td>1</td>\n",
              "      <td>1.5</td>\n",
              "      <td>2</td>\n",
              "      <td>3.0</td>\n",
              "      <td>3.0</td>\n",
              "      <td>2</td>\n",
              "    </tr>\n",
              "    <tr>\n",
              "      <th>1</th>\n",
              "      <td>67</td>\n",
              "      <td>1</td>\n",
              "      <td>4</td>\n",
              "      <td>120</td>\n",
              "      <td>229</td>\n",
              "      <td>0</td>\n",
              "      <td>2</td>\n",
              "      <td>129</td>\n",
              "      <td>1</td>\n",
              "      <td>2.6</td>\n",
              "      <td>2</td>\n",
              "      <td>2.0</td>\n",
              "      <td>7.0</td>\n",
              "      <td>1</td>\n",
              "    </tr>\n",
              "    <tr>\n",
              "      <th>2</th>\n",
              "      <td>37</td>\n",
              "      <td>1</td>\n",
              "      <td>3</td>\n",
              "      <td>130</td>\n",
              "      <td>250</td>\n",
              "      <td>0</td>\n",
              "      <td>0</td>\n",
              "      <td>187</td>\n",
              "      <td>0</td>\n",
              "      <td>3.5</td>\n",
              "      <td>3</td>\n",
              "      <td>0.0</td>\n",
              "      <td>3.0</td>\n",
              "      <td>0</td>\n",
              "    </tr>\n",
              "    <tr>\n",
              "      <th>3</th>\n",
              "      <td>41</td>\n",
              "      <td>0</td>\n",
              "      <td>2</td>\n",
              "      <td>130</td>\n",
              "      <td>204</td>\n",
              "      <td>0</td>\n",
              "      <td>2</td>\n",
              "      <td>172</td>\n",
              "      <td>0</td>\n",
              "      <td>1.4</td>\n",
              "      <td>1</td>\n",
              "      <td>0.0</td>\n",
              "      <td>3.0</td>\n",
              "      <td>0</td>\n",
              "    </tr>\n",
              "    <tr>\n",
              "      <th>4</th>\n",
              "      <td>56</td>\n",
              "      <td>1</td>\n",
              "      <td>2</td>\n",
              "      <td>120</td>\n",
              "      <td>236</td>\n",
              "      <td>0</td>\n",
              "      <td>0</td>\n",
              "      <td>178</td>\n",
              "      <td>0</td>\n",
              "      <td>0.8</td>\n",
              "      <td>1</td>\n",
              "      <td>0.0</td>\n",
              "      <td>3.0</td>\n",
              "      <td>0</td>\n",
              "    </tr>\n",
              "    <tr>\n",
              "      <th>5</th>\n",
              "      <td>62</td>\n",
              "      <td>0</td>\n",
              "      <td>4</td>\n",
              "      <td>140</td>\n",
              "      <td>268</td>\n",
              "      <td>0</td>\n",
              "      <td>2</td>\n",
              "      <td>160</td>\n",
              "      <td>0</td>\n",
              "      <td>3.6</td>\n",
              "      <td>3</td>\n",
              "      <td>2.0</td>\n",
              "      <td>3.0</td>\n",
              "      <td>3</td>\n",
              "    </tr>\n",
              "    <tr>\n",
              "      <th>6</th>\n",
              "      <td>57</td>\n",
              "      <td>0</td>\n",
              "      <td>4</td>\n",
              "      <td>120</td>\n",
              "      <td>354</td>\n",
              "      <td>0</td>\n",
              "      <td>0</td>\n",
              "      <td>163</td>\n",
              "      <td>1</td>\n",
              "      <td>0.6</td>\n",
              "      <td>1</td>\n",
              "      <td>0.0</td>\n",
              "      <td>3.0</td>\n",
              "      <td>0</td>\n",
              "    </tr>\n",
              "    <tr>\n",
              "      <th>7</th>\n",
              "      <td>63</td>\n",
              "      <td>1</td>\n",
              "      <td>4</td>\n",
              "      <td>130</td>\n",
              "      <td>254</td>\n",
              "      <td>0</td>\n",
              "      <td>2</td>\n",
              "      <td>147</td>\n",
              "      <td>0</td>\n",
              "      <td>1.4</td>\n",
              "      <td>2</td>\n",
              "      <td>1.0</td>\n",
              "      <td>7.0</td>\n",
              "      <td>2</td>\n",
              "    </tr>\n",
              "    <tr>\n",
              "      <th>8</th>\n",
              "      <td>53</td>\n",
              "      <td>1</td>\n",
              "      <td>4</td>\n",
              "      <td>140</td>\n",
              "      <td>203</td>\n",
              "      <td>1</td>\n",
              "      <td>2</td>\n",
              "      <td>155</td>\n",
              "      <td>1</td>\n",
              "      <td>3.1</td>\n",
              "      <td>3</td>\n",
              "      <td>0.0</td>\n",
              "      <td>7.0</td>\n",
              "      <td>1</td>\n",
              "    </tr>\n",
              "    <tr>\n",
              "      <th>9</th>\n",
              "      <td>57</td>\n",
              "      <td>1</td>\n",
              "      <td>4</td>\n",
              "      <td>140</td>\n",
              "      <td>192</td>\n",
              "      <td>0</td>\n",
              "      <td>0</td>\n",
              "      <td>148</td>\n",
              "      <td>0</td>\n",
              "      <td>0.4</td>\n",
              "      <td>2</td>\n",
              "      <td>0.0</td>\n",
              "      <td>6.0</td>\n",
              "      <td>0</td>\n",
              "    </tr>\n",
              "  </tbody>\n",
              "</table>\n",
              "</div>\n",
              "    <div class=\"colab-df-buttons\">\n",
              "\n",
              "  <div class=\"colab-df-container\">\n",
              "    <button class=\"colab-df-convert\" onclick=\"convertToInteractive('df-2264b492-0591-49f6-9603-72e91b3a14a2')\"\n",
              "            title=\"Convert this dataframe to an interactive table.\"\n",
              "            style=\"display:none;\">\n",
              "\n",
              "  <svg xmlns=\"http://www.w3.org/2000/svg\" height=\"24px\" viewBox=\"0 -960 960 960\">\n",
              "    <path d=\"M120-120v-720h720v720H120Zm60-500h600v-160H180v160Zm220 220h160v-160H400v160Zm0 220h160v-160H400v160ZM180-400h160v-160H180v160Zm440 0h160v-160H620v160ZM180-180h160v-160H180v160Zm440 0h160v-160H620v160Z\"/>\n",
              "  </svg>\n",
              "    </button>\n",
              "\n",
              "  <style>\n",
              "    .colab-df-container {\n",
              "      display:flex;\n",
              "      gap: 12px;\n",
              "    }\n",
              "\n",
              "    .colab-df-convert {\n",
              "      background-color: #E8F0FE;\n",
              "      border: none;\n",
              "      border-radius: 50%;\n",
              "      cursor: pointer;\n",
              "      display: none;\n",
              "      fill: #1967D2;\n",
              "      height: 32px;\n",
              "      padding: 0 0 0 0;\n",
              "      width: 32px;\n",
              "    }\n",
              "\n",
              "    .colab-df-convert:hover {\n",
              "      background-color: #E2EBFA;\n",
              "      box-shadow: 0px 1px 2px rgba(60, 64, 67, 0.3), 0px 1px 3px 1px rgba(60, 64, 67, 0.15);\n",
              "      fill: #174EA6;\n",
              "    }\n",
              "\n",
              "    .colab-df-buttons div {\n",
              "      margin-bottom: 4px;\n",
              "    }\n",
              "\n",
              "    [theme=dark] .colab-df-convert {\n",
              "      background-color: #3B4455;\n",
              "      fill: #D2E3FC;\n",
              "    }\n",
              "\n",
              "    [theme=dark] .colab-df-convert:hover {\n",
              "      background-color: #434B5C;\n",
              "      box-shadow: 0px 1px 3px 1px rgba(0, 0, 0, 0.15);\n",
              "      filter: drop-shadow(0px 1px 2px rgba(0, 0, 0, 0.3));\n",
              "      fill: #FFFFFF;\n",
              "    }\n",
              "  </style>\n",
              "\n",
              "    <script>\n",
              "      const buttonEl =\n",
              "        document.querySelector('#df-2264b492-0591-49f6-9603-72e91b3a14a2 button.colab-df-convert');\n",
              "      buttonEl.style.display =\n",
              "        google.colab.kernel.accessAllowed ? 'block' : 'none';\n",
              "\n",
              "      async function convertToInteractive(key) {\n",
              "        const element = document.querySelector('#df-2264b492-0591-49f6-9603-72e91b3a14a2');\n",
              "        const dataTable =\n",
              "          await google.colab.kernel.invokeFunction('convertToInteractive',\n",
              "                                                    [key], {});\n",
              "        if (!dataTable) return;\n",
              "\n",
              "        const docLinkHtml = 'Like what you see? Visit the ' +\n",
              "          '<a target=\"_blank\" href=https://colab.research.google.com/notebooks/data_table.ipynb>data table notebook</a>'\n",
              "          + ' to learn more about interactive tables.';\n",
              "        element.innerHTML = '';\n",
              "        dataTable['output_type'] = 'display_data';\n",
              "        await google.colab.output.renderOutput(dataTable, element);\n",
              "        const docLink = document.createElement('div');\n",
              "        docLink.innerHTML = docLinkHtml;\n",
              "        element.appendChild(docLink);\n",
              "      }\n",
              "    </script>\n",
              "  </div>\n",
              "\n",
              "\n",
              "<div id=\"df-cee52022-a734-4c49-b10c-c7b22f617c46\">\n",
              "  <button class=\"colab-df-quickchart\" onclick=\"quickchart('df-cee52022-a734-4c49-b10c-c7b22f617c46')\"\n",
              "            title=\"Suggest charts\"\n",
              "            style=\"display:none;\">\n",
              "\n",
              "<svg xmlns=\"http://www.w3.org/2000/svg\" height=\"24px\"viewBox=\"0 0 24 24\"\n",
              "     width=\"24px\">\n",
              "    <g>\n",
              "        <path d=\"M19 3H5c-1.1 0-2 .9-2 2v14c0 1.1.9 2 2 2h14c1.1 0 2-.9 2-2V5c0-1.1-.9-2-2-2zM9 17H7v-7h2v7zm4 0h-2V7h2v10zm4 0h-2v-4h2v4z\"/>\n",
              "    </g>\n",
              "</svg>\n",
              "  </button>\n",
              "\n",
              "<style>\n",
              "  .colab-df-quickchart {\n",
              "      --bg-color: #E8F0FE;\n",
              "      --fill-color: #1967D2;\n",
              "      --hover-bg-color: #E2EBFA;\n",
              "      --hover-fill-color: #174EA6;\n",
              "      --disabled-fill-color: #AAA;\n",
              "      --disabled-bg-color: #DDD;\n",
              "  }\n",
              "\n",
              "  [theme=dark] .colab-df-quickchart {\n",
              "      --bg-color: #3B4455;\n",
              "      --fill-color: #D2E3FC;\n",
              "      --hover-bg-color: #434B5C;\n",
              "      --hover-fill-color: #FFFFFF;\n",
              "      --disabled-bg-color: #3B4455;\n",
              "      --disabled-fill-color: #666;\n",
              "  }\n",
              "\n",
              "  .colab-df-quickchart {\n",
              "    background-color: var(--bg-color);\n",
              "    border: none;\n",
              "    border-radius: 50%;\n",
              "    cursor: pointer;\n",
              "    display: none;\n",
              "    fill: var(--fill-color);\n",
              "    height: 32px;\n",
              "    padding: 0;\n",
              "    width: 32px;\n",
              "  }\n",
              "\n",
              "  .colab-df-quickchart:hover {\n",
              "    background-color: var(--hover-bg-color);\n",
              "    box-shadow: 0 1px 2px rgba(60, 64, 67, 0.3), 0 1px 3px 1px rgba(60, 64, 67, 0.15);\n",
              "    fill: var(--button-hover-fill-color);\n",
              "  }\n",
              "\n",
              "  .colab-df-quickchart-complete:disabled,\n",
              "  .colab-df-quickchart-complete:disabled:hover {\n",
              "    background-color: var(--disabled-bg-color);\n",
              "    fill: var(--disabled-fill-color);\n",
              "    box-shadow: none;\n",
              "  }\n",
              "\n",
              "  .colab-df-spinner {\n",
              "    border: 2px solid var(--fill-color);\n",
              "    border-color: transparent;\n",
              "    border-bottom-color: var(--fill-color);\n",
              "    animation:\n",
              "      spin 1s steps(1) infinite;\n",
              "  }\n",
              "\n",
              "  @keyframes spin {\n",
              "    0% {\n",
              "      border-color: transparent;\n",
              "      border-bottom-color: var(--fill-color);\n",
              "      border-left-color: var(--fill-color);\n",
              "    }\n",
              "    20% {\n",
              "      border-color: transparent;\n",
              "      border-left-color: var(--fill-color);\n",
              "      border-top-color: var(--fill-color);\n",
              "    }\n",
              "    30% {\n",
              "      border-color: transparent;\n",
              "      border-left-color: var(--fill-color);\n",
              "      border-top-color: var(--fill-color);\n",
              "      border-right-color: var(--fill-color);\n",
              "    }\n",
              "    40% {\n",
              "      border-color: transparent;\n",
              "      border-right-color: var(--fill-color);\n",
              "      border-top-color: var(--fill-color);\n",
              "    }\n",
              "    60% {\n",
              "      border-color: transparent;\n",
              "      border-right-color: var(--fill-color);\n",
              "    }\n",
              "    80% {\n",
              "      border-color: transparent;\n",
              "      border-right-color: var(--fill-color);\n",
              "      border-bottom-color: var(--fill-color);\n",
              "    }\n",
              "    90% {\n",
              "      border-color: transparent;\n",
              "      border-bottom-color: var(--fill-color);\n",
              "    }\n",
              "  }\n",
              "</style>\n",
              "\n",
              "  <script>\n",
              "    async function quickchart(key) {\n",
              "      const quickchartButtonEl =\n",
              "        document.querySelector('#' + key + ' button');\n",
              "      quickchartButtonEl.disabled = true;  // To prevent multiple clicks.\n",
              "      quickchartButtonEl.classList.add('colab-df-spinner');\n",
              "      try {\n",
              "        const charts = await google.colab.kernel.invokeFunction(\n",
              "            'suggestCharts', [key], {});\n",
              "      } catch (error) {\n",
              "        console.error('Error during call to suggestCharts:', error);\n",
              "      }\n",
              "      quickchartButtonEl.classList.remove('colab-df-spinner');\n",
              "      quickchartButtonEl.classList.add('colab-df-quickchart-complete');\n",
              "    }\n",
              "    (() => {\n",
              "      let quickchartButtonEl =\n",
              "        document.querySelector('#df-cee52022-a734-4c49-b10c-c7b22f617c46 button');\n",
              "      quickchartButtonEl.style.display =\n",
              "        google.colab.kernel.accessAllowed ? 'block' : 'none';\n",
              "    })();\n",
              "  </script>\n",
              "</div>\n",
              "\n",
              "    </div>\n",
              "  </div>\n"
            ],
            "application/vnd.google.colaboratory.intrinsic+json": {
              "type": "dataframe",
              "variable_name": "df",
              "summary": "{\n  \"name\": \"df\",\n  \"rows\": 302,\n  \"fields\": [\n    {\n      \"column\": \"age\",\n      \"properties\": {\n        \"dtype\": \"number\",\n        \"std\": 9,\n        \"min\": 29,\n        \"max\": 77,\n        \"num_unique_values\": 41,\n        \"samples\": [\n          61,\n          64,\n          44\n        ],\n        \"semantic_type\": \"\",\n        \"description\": \"\"\n      }\n    },\n    {\n      \"column\": \"sex\",\n      \"properties\": {\n        \"dtype\": \"number\",\n        \"std\": 0,\n        \"min\": 0,\n        \"max\": 1,\n        \"num_unique_values\": 2,\n        \"samples\": [\n          0,\n          1\n        ],\n        \"semantic_type\": \"\",\n        \"description\": \"\"\n      }\n    },\n    {\n      \"column\": \"cp\",\n      \"properties\": {\n        \"dtype\": \"number\",\n        \"std\": 0,\n        \"min\": 1,\n        \"max\": 4,\n        \"num_unique_values\": 4,\n        \"samples\": [\n          3,\n          1\n        ],\n        \"semantic_type\": \"\",\n        \"description\": \"\"\n      }\n    },\n    {\n      \"column\": \"trestbps\",\n      \"properties\": {\n        \"dtype\": \"number\",\n        \"std\": 17,\n        \"min\": 94,\n        \"max\": 200,\n        \"num_unique_values\": 50,\n        \"samples\": [\n          125,\n          192\n        ],\n        \"semantic_type\": \"\",\n        \"description\": \"\"\n      }\n    },\n    {\n      \"column\": \"chol\",\n      \"properties\": {\n        \"dtype\": \"number\",\n        \"std\": 51,\n        \"min\": 126,\n        \"max\": 564,\n        \"num_unique_values\": 152,\n        \"samples\": [\n          321,\n          187\n        ],\n        \"semantic_type\": \"\",\n        \"description\": \"\"\n      }\n    },\n    {\n      \"column\": \"fbs\",\n      \"properties\": {\n        \"dtype\": \"number\",\n        \"std\": 0,\n        \"min\": 0,\n        \"max\": 1,\n        \"num_unique_values\": 2,\n        \"samples\": [\n          1,\n          0\n        ],\n        \"semantic_type\": \"\",\n        \"description\": \"\"\n      }\n    },\n    {\n      \"column\": \"restecg\",\n      \"properties\": {\n        \"dtype\": \"number\",\n        \"std\": 0,\n        \"min\": 0,\n        \"max\": 2,\n        \"num_unique_values\": 3,\n        \"samples\": [\n          2,\n          0\n        ],\n        \"semantic_type\": \"\",\n        \"description\": \"\"\n      }\n    },\n    {\n      \"column\": \"thalach\",\n      \"properties\": {\n        \"dtype\": \"number\",\n        \"std\": 22,\n        \"min\": 71,\n        \"max\": 202,\n        \"num_unique_values\": 91,\n        \"samples\": [\n          113,\n          151\n        ],\n        \"semantic_type\": \"\",\n        \"description\": \"\"\n      }\n    },\n    {\n      \"column\": \"exang\",\n      \"properties\": {\n        \"dtype\": \"number\",\n        \"std\": 0,\n        \"min\": 0,\n        \"max\": 1,\n        \"num_unique_values\": 2,\n        \"samples\": [\n          0,\n          1\n        ],\n        \"semantic_type\": \"\",\n        \"description\": \"\"\n      }\n    },\n    {\n      \"column\": \"oldpeak\",\n      \"properties\": {\n        \"dtype\": \"number\",\n        \"std\": 1.160723359694283,\n        \"min\": 0.0,\n        \"max\": 6.2,\n        \"num_unique_values\": 40,\n        \"samples\": [\n          2.0,\n          1.8\n        ],\n        \"semantic_type\": \"\",\n        \"description\": \"\"\n      }\n    },\n    {\n      \"column\": \"slope\",\n      \"properties\": {\n        \"dtype\": \"number\",\n        \"std\": 0,\n        \"min\": 1,\n        \"max\": 3,\n        \"num_unique_values\": 3,\n        \"samples\": [\n          2,\n          3\n        ],\n        \"semantic_type\": \"\",\n        \"description\": \"\"\n      }\n    },\n    {\n      \"column\": \"ca\",\n      \"properties\": {\n        \"dtype\": \"number\",\n        \"std\": 0.9382019024458494,\n        \"min\": 0.0,\n        \"max\": 3.0,\n        \"num_unique_values\": 4,\n        \"samples\": [\n          2.0,\n          1.0\n        ],\n        \"semantic_type\": \"\",\n        \"description\": \"\"\n      }\n    },\n    {\n      \"column\": \"thal\",\n      \"properties\": {\n        \"dtype\": \"number\",\n        \"std\": 1.9415626572015299,\n        \"min\": 3.0,\n        \"max\": 7.0,\n        \"num_unique_values\": 3,\n        \"samples\": [\n          3.0,\n          7.0\n        ],\n        \"semantic_type\": \"\",\n        \"description\": \"\"\n      }\n    },\n    {\n      \"column\": \"target\",\n      \"properties\": {\n        \"dtype\": \"number\",\n        \"std\": 1,\n        \"min\": 0,\n        \"max\": 4,\n        \"num_unique_values\": 5,\n        \"samples\": [\n          1,\n          4\n        ],\n        \"semantic_type\": \"\",\n        \"description\": \"\"\n      }\n    }\n  ]\n}"
            }
          },
          "metadata": {},
          "execution_count": 12
        }
      ]
    },
    {
      "cell_type": "code",
      "source": [
        "df['target'] = df['target'].map({0:0, 1:1, 2:1, 3:1, 4:1})\n",
        "df.info()"
      ],
      "metadata": {
        "colab": {
          "base_uri": "https://localhost:8080/"
        },
        "id": "LBVXCtiS27ON",
        "outputId": "148f3f4c-78ca-4dcc-d350-2a5a4c79cdd2"
      },
      "execution_count": 13,
      "outputs": [
        {
          "output_type": "stream",
          "name": "stdout",
          "text": [
            "<class 'pandas.core.frame.DataFrame'>\n",
            "RangeIndex: 302 entries, 0 to 301\n",
            "Data columns (total 14 columns):\n",
            " #   Column    Non-Null Count  Dtype  \n",
            "---  ------    --------------  -----  \n",
            " 0   age       302 non-null    int64  \n",
            " 1   sex       302 non-null    int64  \n",
            " 2   cp        302 non-null    int64  \n",
            " 3   trestbps  302 non-null    int64  \n",
            " 4   chol      302 non-null    int64  \n",
            " 5   fbs       302 non-null    int64  \n",
            " 6   restecg   302 non-null    int64  \n",
            " 7   thalach   302 non-null    int64  \n",
            " 8   exang     302 non-null    int64  \n",
            " 9   oldpeak   302 non-null    float64\n",
            " 10  slope     302 non-null    int64  \n",
            " 11  ca        298 non-null    float64\n",
            " 12  thal      300 non-null    float64\n",
            " 13  target    302 non-null    int64  \n",
            "dtypes: float64(3), int64(11)\n",
            "memory usage: 33.2 KB\n"
          ]
        }
      ]
    },
    {
      "cell_type": "code",
      "source": [
        "df['ca'] = df.ca.fillna(df.ca.mean())\n",
        "df['thal'] = df.thal.fillna(df.ca.mean())\n",
        "df.info()"
      ],
      "metadata": {
        "colab": {
          "base_uri": "https://localhost:8080/"
        },
        "id": "nXYvskNC3r7B",
        "outputId": "edd04717-165e-4f01-b9df-485b3040bcad"
      },
      "execution_count": 14,
      "outputs": [
        {
          "output_type": "stream",
          "name": "stdout",
          "text": [
            "<class 'pandas.core.frame.DataFrame'>\n",
            "RangeIndex: 302 entries, 0 to 301\n",
            "Data columns (total 14 columns):\n",
            " #   Column    Non-Null Count  Dtype  \n",
            "---  ------    --------------  -----  \n",
            " 0   age       302 non-null    int64  \n",
            " 1   sex       302 non-null    int64  \n",
            " 2   cp        302 non-null    int64  \n",
            " 3   trestbps  302 non-null    int64  \n",
            " 4   chol      302 non-null    int64  \n",
            " 5   fbs       302 non-null    int64  \n",
            " 6   restecg   302 non-null    int64  \n",
            " 7   thalach   302 non-null    int64  \n",
            " 8   exang     302 non-null    int64  \n",
            " 9   oldpeak   302 non-null    float64\n",
            " 10  slope     302 non-null    int64  \n",
            " 11  ca        302 non-null    float64\n",
            " 12  thal      302 non-null    float64\n",
            " 13  target    302 non-null    int64  \n",
            "dtypes: float64(3), int64(11)\n",
            "memory usage: 33.2 KB\n"
          ]
        }
      ]
    },
    {
      "cell_type": "markdown",
      "source": [
        "# 3.Ex_01 Distribution of age with target"
      ],
      "metadata": {
        "id": "dY_FbiFY47aH"
      }
    },
    {
      "cell_type": "code",
      "source": [
        "#distribution of target vs age\n",
        "ax = sns.catplot(data=df, x='age', kind='count', hue='target')\n",
        "ax.ax.set_xticks(np.arange(0,80,5))\n",
        "plt.show()"
      ],
      "metadata": {
        "colab": {
          "base_uri": "https://localhost:8080/",
          "height": 506
        },
        "id": "ELtpxNWb4Suh",
        "outputId": "7846515d-7b20-4e39-bc8f-b17d1b590012"
      },
      "execution_count": 15,
      "outputs": [
        {
          "output_type": "display_data",
          "data": {
            "text/plain": [
              "<Figure size 558.875x500 with 1 Axes>"
            ],
            "image/png": "[encoded data removed]"
          },
          "metadata": {}
        }
      ]
    },
    {
      "cell_type": "markdown",
      "source": [
        "# 4.Ex_02 Distribution of age, sex with target"
      ],
      "metadata": {
        "id": "hg3s6N1x6GzX"
      }
    },
    {
      "cell_type": "code",
      "source": [
        "sns.catplot(data=df, x='sex', y='age', kind='bar', hue='target')\n",
        "\n",
        "plt.show()"
      ],
      "metadata": {
        "colab": {
          "base_uri": "https://localhost:8080/",
          "height": 506
        },
        "id": "nJlhx12U6K5S",
        "outputId": "b0ad7110-9dfe-4834-de30-f2456980809e"
      },
      "execution_count": 16,
      "outputs": [
        {
          "output_type": "display_data",
          "data": {
            "text/plain": [
              "<Figure size 558.875x500 with 1 Axes>"
            ],
            "image/png": "[encoded data removed]"
          },
          "metadata": {}
        }
      ]
    },
    {
      "cell_type": "markdown",
      "source": [
        "# 5.Ex_03 KNN K-Nearest Neighbor"
      ],
      "metadata": {
        "id": "n2EHTv6B8bOj"
      }
    },
    {
      "cell_type": "code",
      "source": [
        "#n_neighbors=5, weights=’uniform’, algorithm=’auto’, leaf_size=30, p=2, metric=’minkowski’\n",
        "\n",
        "from sklearn.model_selection import train_test_split\n",
        "from sklearn.metrics import confusion_matrix\n",
        "\n",
        "X = df.iloc[:, :-1].values\n",
        "y = df.iloc[:, -1].values\n",
        "\n",
        "X_train, X_test, y_train, y_test = train_test_split(X, y, test_size = 0.2, random_state = 42)\n",
        "\n",
        "# your code here ***************************\n",
        "from sklearn.neighbors import KNeighborsClassifier\n",
        "#initiate the model\n",
        "knn_classifier = KNeighborsClassifier(n_neighbors=5, weights='uniform', algorithm='auto', leaf_size=30, p=2, metric='minkowski')\n",
        "#train model use train data set\n",
        "knn_classifier.fit(X_train, y_train)\n",
        "#predict with test data set\n",
        "y_predict = knn_classifier.predict(X_test)\n",
        "y_predict_train = knn_classifier.predict(X_train)\n",
        "#calculate confusion matrix\n",
        "cm_train = confusion_matrix(y_predict_train, y_train)\n",
        "cm_test = confusion_matrix(y_predict, y_test)\n",
        "\n",
        "print(\"confusion matrix: train data set\")\n",
        "print(cm_train)\n",
        "print(\"confusion matrix: test data set\")\n",
        "print(cm_test)\n",
        "\n",
        "print()\n",
        "accuracy_for_train = np.round((cm_train[0][0] + cm_train[1][1])/len(y_train),2)\n",
        "accuracy_for_test = np.round((cm_test[0][0] + cm_test [1][1])/len(y_test) ,2)\n",
        "print('Accuracy for training set for KNeighborsClassifier = {}'.format(accuracy_for_train))\n",
        "print('Accuracy for test set for KNeighborsClassifier = {}'.format(accuracy_for_test))"
      ],
      "metadata": {
        "colab": {
          "base_uri": "https://localhost:8080/"
        },
        "id": "naNmQ8rg8jk5",
        "outputId": "02dc9955-4be3-4dd1-d293-9925c521fcfc"
      },
      "execution_count": 24,
      "outputs": [
        {
          "output_type": "stream",
          "name": "stdout",
          "text": [
            "confusion matrix: train data set\n",
            "[[102  29]\n",
            " [ 29  81]]\n",
            "confusion matrix: test data set\n",
            "[[18 10]\n",
            " [14 19]]\n",
            "\n",
            "Accuracy for training set for KNeighborsClassifier = 0.76\n",
            "Accuracy for test set for KNeighborsClassifier = 0.61\n"
          ]
        }
      ]
    },
    {
      "cell_type": "markdown",
      "source": [
        "# 6.Ex_04 SVM - Support Vector Machine"
      ],
      "metadata": {
        "id": "0qwzQHhd-OPx"
      }
    },
    {
      "cell_type": "code",
      "source": [
        "#kernel = ’rbf’, random_state=42\n",
        "X_train, X_test, y_train, y_test = train_test_split(X, y, test_size = 0.2, random_state = 42)\n",
        "\n",
        "# your code here ***************************\n",
        "from sklearn.svm import SVC\n",
        "#initiate the model\n",
        "svm_classifier = SVC(kernel='rbf', random_state=42)\n",
        "#train model use train data set\n",
        "svm_classifier.fit(X_train, y_train)\n",
        "#predict with test data set\n",
        "y_predict = svm_classifier.predict(X_test)\n",
        "y_predict_train = svm_classifier.predict(X_train)\n",
        "#calculate confusion matrix\n",
        "cm_train = confusion_matrix(y_predict_train, y_train)\n",
        "cm_test = confusion_matrix(y_predict, y_test)\n",
        "\n",
        "print(\"confusion matrix: train data set\")\n",
        "print(cm_train)\n",
        "print(\"confusion matrix: test data set\")\n",
        "print(cm_test)\n",
        "\n",
        "print()\n",
        "accuracy_for_train = np.round((cm_train[0][0] + cm_train[1][1])/len(y_train),2)\n",
        "accuracy_for_test = np.round((cm_test[0][0] + cm_test [1][1])/len(y_test) ,2)\n",
        "print('Accuracy for training set for SVM = {}'.format(accuracy_for_train))\n",
        "print('Accuracy for test set for SVM = {}'.format(accuracy_for_test))"
      ],
      "metadata": {
        "colab": {
          "base_uri": "https://localhost:8080/"
        },
        "id": "Q15m3uOu-Tk6",
        "outputId": "82fde555-7f34-4c5c-e117-c481f260da37"
      },
      "execution_count": 26,
      "outputs": [
        {
          "output_type": "stream",
          "name": "stdout",
          "text": [
            "confusion matrix: train data set\n",
            "[[113  62]\n",
            " [ 18  48]]\n",
            "confusion matrix: test data set\n",
            "[[27 15]\n",
            " [ 5 14]]\n",
            "\n",
            "Accuracy for training set for SVM = 0.67\n",
            "Accuracy for test set for SVM = 0.67\n"
          ]
        }
      ]
    },
    {
      "cell_type": "markdown",
      "source": [
        "# 7.Ex_05 Naive Bayes"
      ],
      "metadata": {
        "id": "_TPxPdDqCY-y"
      }
    },
    {
      "cell_type": "code",
      "source": [
        "X_train, X_test, y_train, y_test = train_test_split(X, y, test_size = 0.2, random_state = 42)\n",
        "\n",
        "# your code here ***************************\n",
        "from sklearn.naive_bayes import GaussianNB\n",
        "#initiate the model\n",
        "nb_classifier = GaussianNB()\n",
        "#train model use train data set\n",
        "nb_classifier.fit(X_train, y_train)\n",
        "#predict with test data set\n",
        "y_predict = nb_classifier.predict(X_test)\n",
        "y_predict_train = nb_classifier.predict(X_train)\n",
        "#calculate confusion matrix\n",
        "cm_train = confusion_matrix(y_predict_train, y_train)\n",
        "cm_test = confusion_matrix(y_predict, y_test)\n",
        "\n",
        "print(\"confusion matrix: train data set\")\n",
        "print(cm_train)\n",
        "print(\"confusion matrix: test data set\")\n",
        "print(cm_test)\n",
        "\n",
        "print()\n",
        "accuracy_for_train = np.round((cm_train[0][0] + cm_train[1][1])/len(y_train),2)\n",
        "accuracy_for_test = np.round((cm_test[0][0] + cm_test [1][1])/len(y_test) ,2)\n",
        "print('Accuracy for training set for SVM = {}'.format(accuracy_for_train))\n",
        "print('Accuracy for test set for SVM = {}'.format(accuracy_for_test))"
      ],
      "metadata": {
        "colab": {
          "base_uri": "https://localhost:8080/"
        },
        "id": "igyawCEuCbUI",
        "outputId": "29bab991-8fc0-4f5e-cd5e-b56e420596b6"
      },
      "execution_count": 27,
      "outputs": [
        {
          "output_type": "stream",
          "name": "stdout",
          "text": [
            "confusion matrix: train data set\n",
            "[[116  22]\n",
            " [ 15  88]]\n",
            "confusion matrix: test data set\n",
            "[[29  6]\n",
            " [ 3 23]]\n",
            "\n",
            "Accuracy for training set for SVM = 0.85\n",
            "Accuracy for test set for SVM = 0.85\n"
          ]
        }
      ]
    },
    {
      "cell_type": "markdown",
      "source": [
        "# 8.Ex_06 Decision Tree"
      ],
      "metadata": {
        "id": "vrBUKSpmEKYU"
      }
    },
    {
      "cell_type": "code",
      "source": [
        "#criterion=’gini’, max_depth=10, min_samples_split=2\n",
        "\n",
        "X_train, X_test, y_train, y_test = train_test_split(X, y, test_size = 0.2, random_state = 42)\n",
        "\n",
        "# your code here ***************************\n",
        "from sklearn.tree import DecisionTreeClassifier\n",
        "#initiate the model\n",
        "dt_classifier = DecisionTreeClassifier(criterion='gini', max_depth=10, min_samples_split=2)\n",
        "#train model use train data set\n",
        "dt_classifier.fit(X_train, y_train)\n",
        "#predict with test data set\n",
        "y_predict = dt_classifier.predict(X_test)\n",
        "y_predict_train = dt_classifier.predict(X_train)\n",
        "#calculate confusion matrix\n",
        "cm_train = confusion_matrix(y_predict_train, y_train)\n",
        "cm_test = confusion_matrix(y_predict, y_test)\n",
        "\n",
        "print(\"confusion matrix: train data set\")\n",
        "print(cm_train)\n",
        "print(\"confusion matrix: test data set\")\n",
        "print(cm_test)\n",
        "\n",
        "print()\n",
        "accuracy_for_train = np.round((cm_train[0][0] + cm_train[1][1])/len(y_train),2)\n",
        "accuracy_for_test = np.round((cm_test[0][0] + cm_test [1][1])/len(y_test) ,2)\n",
        "print('Accuracy for training set for DT = {}'.format(accuracy_for_train))\n",
        "print('Accuracy for test set for DT = {}'.format(accuracy_for_test))"
      ],
      "metadata": {
        "colab": {
          "base_uri": "https://localhost:8080/"
        },
        "id": "HhFcUJcGENDB",
        "outputId": "5baa8136-d3d1-4753-81a0-103070ca7dfd"
      },
      "execution_count": 30,
      "outputs": [
        {
          "output_type": "stream",
          "name": "stdout",
          "text": [
            "confusion matrix: train data set\n",
            "[[131   0]\n",
            " [  0 110]]\n",
            "confusion matrix: test data set\n",
            "[[28 12]\n",
            " [ 4 17]]\n",
            "\n",
            "Accuracy for training set for DT = 1.0\n",
            "Accuracy for test set for DT = 0.74\n"
          ]
        }
      ]
    },
    {
      "cell_type": "markdown",
      "source": [
        "# 9.Ex_07 Random_Forest"
      ],
      "metadata": {
        "id": "qMzQOF5lGgAw"
      }
    },
    {
      "cell_type": "code",
      "source": [
        "#criterion=’gini’, max_depth=10, min_samples_split=2, n_estimators = 10, random_state=42\n",
        "\n",
        "X_train, X_test, y_train, y_test = train_test_split(X, y, test_size = 0.2, random_state = 42)\n",
        "\n",
        "# your code here ***************************\n",
        "from sklearn.ensemble import RandomForestClassifier\n",
        "#initiate the model\n",
        "rf_classifier = RandomForestClassifier(criterion='gini', max_depth=10, min_samples_split=2, n_estimators = 10, random_state=42)\n",
        "#train model use train data set\n",
        "rf_classifier.fit(X_train, y_train)\n",
        "#predict with test data set\n",
        "y_predict = rf_classifier.predict(X_test)\n",
        "y_predict_train = rf_classifier.predict(X_train)\n",
        "#calculate confusion matrix\n",
        "cm_train = confusion_matrix(y_predict_train, y_train)\n",
        "cm_test = confusion_matrix(y_predict, y_test)\n",
        "\n",
        "print(\"confusion matrix: train data set\")\n",
        "print(cm_train)\n",
        "print(\"confusion matrix: test data set\")\n",
        "print(cm_test)\n",
        "\n",
        "print()\n",
        "accuracy_for_train = np.round((cm_train[0][0] + cm_train[1][1])/len(y_train),2)\n",
        "accuracy_for_test = np.round((cm_test[0][0] + cm_test [1][1])/len(y_test) ,2)\n",
        "print('Accuracy for training set for Random Forrest = {}'.format(accuracy_for_train))\n",
        "print('Accuracy for test set for Random Forrest = {}'.format(accuracy_for_test))"
      ],
      "metadata": {
        "colab": {
          "base_uri": "https://localhost:8080/"
        },
        "id": "9lO1w4geGj9G",
        "outputId": "17f76a1b-f4ab-4588-cacb-8c320dee85fe"
      },
      "execution_count": 33,
      "outputs": [
        {
          "output_type": "stream",
          "name": "stdout",
          "text": [
            "confusion matrix: train data set\n",
            "[[130   1]\n",
            " [  1 109]]\n",
            "confusion matrix: test data set\n",
            "[[26  9]\n",
            " [ 6 20]]\n",
            "\n",
            "Accuracy for training set for Random Forrest = 0.99\n",
            "Accuracy for test set for Random Forrest = 0.75\n"
          ]
        }
      ]
    },
    {
      "cell_type": "markdown",
      "source": [
        "# 10.Ex_08 AdaBoost"
      ],
      "metadata": {
        "id": "eCBMEJ8gJ9Pv"
      }
    },
    {
      "cell_type": "code",
      "source": [
        "#n_estimators=50, learning_rate=1.0\n",
        "\n",
        "X = df.iloc [: , :-1].values\n",
        "y = df.iloc [: , -1].values\n",
        "\n",
        "X_train, X_test, y_train, y_test = train_test_split(X, y, test_size = 0.2, random_state = 42)\n",
        "\n",
        "# your code here ***************************\n",
        "from sklearn.ensemble import AdaBoostClassifier\n",
        "#initiate the model\n",
        "ada_classifier = AdaBoostClassifier(n_estimators=50, learning_rate=1.0)\n",
        "#train model use train data set\n",
        "ada_classifier.fit(X_train, y_train)\n",
        "#predict with test data set\n",
        "y_predict = ada_classifier.predict(X_test)\n",
        "y_predict_train = ada_classifier.predict(X_train)\n",
        "#calculate confusion matrix\n",
        "cm_train = confusion_matrix(y_predict_train, y_train)\n",
        "cm_test = confusion_matrix(y_predict, y_test)\n",
        "\n",
        "print(\"confusion matrix: train data set\")\n",
        "print(cm_train)\n",
        "print(\"confusion matrix: test data set\")\n",
        "print(cm_test)\n",
        "\n",
        "print()\n",
        "accuracy_for_train = np.round((cm_train[0][0] + cm_train[1][1])/len(y_train),2)\n",
        "accuracy_for_test = np.round((cm_test[0][0] + cm_test [1][1])/len(y_test) ,2)\n",
        "print('Accuracy for training set for Ada Boost = {}'.format(accuracy_for_train))\n",
        "print('Accuracy for test set for Ada Boost = {}'.format(accuracy_for_test))"
      ],
      "metadata": {
        "colab": {
          "base_uri": "https://localhost:8080/"
        },
        "id": "A3Cr59MBKCbo",
        "outputId": "01edcf36-b118-485e-bff8-8456addbbfab"
      },
      "execution_count": 37,
      "outputs": [
        {
          "output_type": "stream",
          "name": "stderr",
          "text": [
            "/usr/local/lib/python3.10/dist-packages/sklearn/ensemble/_weight_boosting.py:527: FutureWarning: The SAMME.R algorithm (the default) is deprecated and will be removed in 1.6. Use the SAMME algorithm to circumvent this warning.\n",
            "  warnings.warn(\n"
          ]
        },
        {
          "output_type": "stream",
          "name": "stdout",
          "text": [
            "confusion matrix: train data set\n",
            "[[126  11]\n",
            " [  5  99]]\n",
            "confusion matrix: test data set\n",
            "[[25  7]\n",
            " [ 7 22]]\n",
            "\n",
            "Accuracy for training set for Ada Boost = 0.93\n",
            "Accuracy for test set for Ada Boost = 0.77\n"
          ]
        }
      ]
    },
    {
      "cell_type": "markdown",
      "source": [
        "# 11.Ex_09 GradientBoost"
      ],
      "metadata": {
        "id": "a98D1u1xLYng"
      }
    },
    {
      "cell_type": "code",
      "source": [
        "#learning_rate=0.1, n_estimators=100, subsample=1.0, min_samples_split=2, max_depth=3, random_state=42\n",
        "\n",
        "X = df.iloc [:, :-1].values\n",
        "y = df.iloc [:, -1].values\n",
        "\n",
        "X_train, X_test, y_train, y_test = train_test_split(X, y, test_size = 0.2, random_state = 42)\n",
        "\n",
        "# your code here ***************************\n",
        "from sklearn.ensemble import GradientBoostingClassifier\n",
        "#initiate the model\n",
        "gra_classifier = GradientBoostingClassifier(learning_rate=0.1, n_estimators=100, subsample=1.0, min_samples_split=2, max_depth=3, random_state=42)\n",
        "#train model use train data set\n",
        "gra_classifier.fit(X_train, y_train)\n",
        "#predict with test data set\n",
        "y_predict = gra_classifier.predict(X_test)\n",
        "y_predict_train = gra_classifier.predict(X_train)\n",
        "#calculate confusion matrix\n",
        "cm_train = confusion_matrix(y_predict_train, y_train)\n",
        "cm_test = confusion_matrix(y_predict, y_test)\n",
        "\n",
        "print(\"confusion matrix: train data set\")\n",
        "print(cm_train)\n",
        "print(\"confusion matrix: test data set\")\n",
        "print(cm_test)\n",
        "\n",
        "print()\n",
        "accuracy_for_train = np.round((cm_train[0][0] + cm_train[1][1])/len(y_train),2)\n",
        "accuracy_for_test = np.round((cm_test[0][0] + cm_test [1][1])/len(y_test) ,2)\n",
        "print('Accuracy for training set for Gradient Boost = {}'.format(accuracy_for_train))\n",
        "print('Accuracy for test set for Gradient Boost = {}'.format(accuracy_for_test))"
      ],
      "metadata": {
        "colab": {
          "base_uri": "https://localhost:8080/"
        },
        "id": "Ke3iaPLXLbXG",
        "outputId": "f3f82997-664f-4976-da64-ef624c4e707a"
      },
      "execution_count": 38,
      "outputs": [
        {
          "output_type": "stream",
          "name": "stdout",
          "text": [
            "confusion matrix: train data set\n",
            "[[130   1]\n",
            " [  1 109]]\n",
            "confusion matrix: test data set\n",
            "[[26  5]\n",
            " [ 6 24]]\n",
            "\n",
            "Accuracy for training set for Gradient Boost = 0.99\n",
            "Accuracy for test set for Gradient Boost = 0.82\n"
          ]
        }
      ]
    },
    {
      "cell_type": "markdown",
      "source": [
        "# 12.Ex10 XG Boost"
      ],
      "metadata": {
        "id": "B3pReD63L8Sv"
      }
    },
    {
      "cell_type": "code",
      "source": [
        "#objective=\"binary:logistic\", random_state=42, n_estimators = 100\n",
        "\n",
        "X = df.iloc [:, :-1].values\n",
        "y = df.iloc [:, -1].values\n",
        "\n",
        "X_train, X_test, y_train, y_test = train_test_split(X, y, test_size = 0.2, random_state = 42)\n",
        "\n",
        "# your code here ***************************\n",
        "from xgboost import XGBClassifier\n",
        "#initiate the model\n",
        "xgb_classifier = XGBClassifier(objective=\"binary:logistic\", random_state=42, n_estimators = 100)\n",
        "#train model use train data set\n",
        "xgb_classifier.fit(X_train, y_train)\n",
        "#predict with test data set\n",
        "y_predict = xgb_classifier.predict(X_test)\n",
        "y_predict_train = xgb_classifier.predict(X_train)\n",
        "#calculate confusion matrix\n",
        "cm_train = confusion_matrix(y_predict_train, y_train)\n",
        "cm_test = confusion_matrix(y_predict, y_test)\n",
        "\n",
        "print(\"confusion matrix: train data set\")\n",
        "print(cm_train)\n",
        "print(\"confusion matrix: test data set\")\n",
        "print(cm_test)\n",
        "\n",
        "print()\n",
        "accuracy_for_train = np.round((cm_train[0][0] + cm_train[1][1])/len(y_train),2)\n",
        "accuracy_for_test = np.round((cm_test[0][0] + cm_test [1][1])/len(y_test) ,2)\n",
        "print('Accuracy for training set for XGBoost = {}'.format(accuracy_for_train))\n",
        "print('Accuracy for test set for XGBoost = {}'.format(accuracy_for_test))"
      ],
      "metadata": {
        "colab": {
          "base_uri": "https://localhost:8080/"
        },
        "id": "Gy138IV5MAxF",
        "outputId": "1456f650-771c-4daf-c020-b0b12d4d37fb"
      },
      "execution_count": 44,
      "outputs": [
        {
          "output_type": "stream",
          "name": "stdout",
          "text": [
            "confusion matrix: train data set\n",
            "[[131   0]\n",
            " [  0 110]]\n",
            "confusion matrix: test data set\n",
            "[[27  4]\n",
            " [ 5 25]]\n",
            "\n",
            "Accuracy for training set for XGBoost = 1.0\n",
            "Accuracy for test set for XGBoost = 0.85\n"
          ]
        }
      ]
    },
    {
      "cell_type": "markdown",
      "source": [
        "# 13.Ex_11 Stacking"
      ],
      "metadata": {
        "id": "zRfHU-4sNZKP"
      }
    },
    {
      "cell_type": "code",
      "source": [
        "X = df.iloc [:, :-1].values\n",
        "y = df.iloc [:, -1].values\n",
        "\n",
        "X_train, X_test, y_train, y_test = train_test_split(X, y, test_size = 0.2, random_state = 42)\n",
        "\n",
        "knn = KNeighborsClassifier()\n",
        "svc = SVC(kernel = 'rbf', random_state =42)\n",
        "dtc = DecisionTreeClassifier(random_state =42)\n",
        "rfc = RandomForestClassifier(random_state =42)\n",
        "ad = AdaBoostClassifier(random_state =42)\n",
        "gc = GradientBoostingClassifier(random_state =42)\n",
        "xgb = XGBClassifier()\n",
        "\n",
        "# your code here ***************************\n",
        "from sklearn.ensemble import StackingClassifier\n",
        "#initiate the model\n",
        "stk_classifier = StackingClassifier(estimators=[('dtc', dtc), ('rfc', rfc), ('knn', knn), ('gc', gc), ('ad', ad), ('svc', svc)], final_estimator=xgb)\n",
        "#train model use train data set\n",
        "stk_classifier.fit(X_train, y_train)\n",
        "#predict with test data set\n",
        "y_predict = stk_classifier.predict(X_test)\n",
        "y_predict_train = stk_classifier.predict(X_train)\n",
        "#calculate confusion matrix\n",
        "cm_train = confusion_matrix(y_predict_train, y_train)\n",
        "cm_test = confusion_matrix(y_predict, y_test)\n",
        "\n",
        "print(\"confusion matrix: train data set\")\n",
        "print(cm_train)\n",
        "print(\"confusion matrix: test data set\")\n",
        "print(cm_test)\n",
        "\n",
        "print()\n",
        "accuracy_for_train = np.round((cm_train[0][0] + cm_train[1][1])/len(y_train),2)\n",
        "accuracy_for_test = np.round((cm_test[0][0] + cm_test [1][1])/len(y_test) ,2)\n",
        "print('Accuracy for training set for Stacking = {}'.format(accuracy_for_train))\n",
        "print('Accuracy for test set for Stacking = {}'.format(accuracy_for_test))"
      ],
      "metadata": {
        "colab": {
          "base_uri": "https://localhost:8080/"
        },
        "id": "Rbqon-PvNbjh",
        "outputId": "b6a981c8-5437-4be2-b20a-6226e07add9b"
      },
      "execution_count": 50,
      "outputs": [
        {
          "output_type": "stream",
          "name": "stderr",
          "text": [
            "/usr/local/lib/python3.10/dist-packages/sklearn/ensemble/_weight_boosting.py:527: FutureWarning: The SAMME.R algorithm (the default) is deprecated and will be removed in 1.6. Use the SAMME algorithm to circumvent this warning.\n",
            "  warnings.warn(\n",
            "/usr/local/lib/python3.10/dist-packages/sklearn/ensemble/_weight_boosting.py:527: FutureWarning: The SAMME.R algorithm (the default) is deprecated and will be removed in 1.6. Use the SAMME algorithm to circumvent this warning.\n",
            "  warnings.warn(\n",
            "/usr/local/lib/python3.10/dist-packages/sklearn/ensemble/_weight_boosting.py:527: FutureWarning: The SAMME.R algorithm (the default) is deprecated and will be removed in 1.6. Use the SAMME algorithm to circumvent this warning.\n",
            "  warnings.warn(\n",
            "/usr/local/lib/python3.10/dist-packages/sklearn/ensemble/_weight_boosting.py:527: FutureWarning: The SAMME.R algorithm (the default) is deprecated and will be removed in 1.6. Use the SAMME algorithm to circumvent this warning.\n",
            "  warnings.warn(\n",
            "/usr/local/lib/python3.10/dist-packages/sklearn/ensemble/_weight_boosting.py:527: FutureWarning: The SAMME.R algorithm (the default) is deprecated and will be removed in 1.6. Use the SAMME algorithm to circumvent this warning.\n",
            "  warnings.warn(\n",
            "/usr/local/lib/python3.10/dist-packages/sklearn/ensemble/_weight_boosting.py:527: FutureWarning: The SAMME.R algorithm (the default) is deprecated and will be removed in 1.6. Use the SAMME algorithm to circumvent this warning.\n",
            "  warnings.warn(\n"
          ]
        },
        {
          "output_type": "stream",
          "name": "stdout",
          "text": [
            "confusion matrix: train data set\n",
            "[[124   2]\n",
            " [  7 108]]\n",
            "confusion matrix: test data set\n",
            "[[27  9]\n",
            " [ 5 20]]\n",
            "\n",
            "Accuracy for training set for Stacking = 0.96\n",
            "Accuracy for test set for Stacking = 0.77\n"
          ]
        }
      ]
    }
  ]
}